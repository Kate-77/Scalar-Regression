{
  "nbformat": 4,
  "nbformat_minor": 0,
  "metadata": {
    "colab": {
      "provenance": []
    },
    "kernelspec": {
      "name": "python3",
      "display_name": "Python 3"
    },
    "language_info": {
      "name": "python"
    }
  },
  "cells": [
    {
      "cell_type": "markdown",
      "source": [
        "# Préparation des données :"
      ],
      "metadata": {
        "id": "HgpRsRc2PR2V"
      }
    },
    {
      "cell_type": "code",
      "source": [
        "import numpy as np\n",
        "import pandas as pd\n",
        "import matplotlib.pyplot as plt"
      ],
      "metadata": {
        "id": "0PTHxv_tPKtE"
      },
      "execution_count": 1,
      "outputs": []
    },
    {
      "cell_type": "markdown",
      "source": [
        "Importer le jeu de données Boston housing de la librairie keras.datasets :"
      ],
      "metadata": {
        "id": "eby-sMqtPXmT"
      }
    },
    {
      "cell_type": "code",
      "execution_count": 2,
      "metadata": {
        "id": "8r39yoNoUW-S"
      },
      "outputs": [],
      "source": [
        "from keras.datasets import boston_housing"
      ]
    },
    {
      "cell_type": "code",
      "source": [
        "# (x_train, y_train), (x_test, y_test)\n",
        "(train_data, train_targets), (test_data, test_targets) = boston_housing.load_data()\n",
        "print(f'Training data : {train_data.shape}')\n",
        "print(f'Test data : {test_data.shape}')\n",
        "print(f'Training sample : {train_data[0]}')\n",
        "print(f'Training target sample : {train_targets[0]}')"
      ],
      "metadata": {
        "colab": {
          "base_uri": "https://localhost:8080/"
        },
        "id": "118KxslTfXft",
        "outputId": "6abe224a-4a95-4bfa-c578-f94267fa5adc"
      },
      "execution_count": 3,
      "outputs": [
        {
          "output_type": "stream",
          "name": "stdout",
          "text": [
            "Downloading data from https://storage.googleapis.com/tensorflow/tf-keras-datasets/boston_housing.npz\n",
            "57026/57026 [==============================] - 0s 0us/step\n",
            "Training data : (404, 13)\n",
            "Test data : (102, 13)\n",
            "Training sample : [  1.23247   0.        8.14      0.        0.538     6.142    91.7\n",
            "   3.9769    4.      307.       21.      396.9      18.72   ]\n",
            "Training target sample : 15.2\n"
          ]
        }
      ]
    },
    {
      "cell_type": "markdown",
      "source": [
        "## Normaliser les données\n",
        "\n"
      ],
      "metadata": {
        "id": "FBbnaJwGP-7A"
      }
    },
    {
      "cell_type": "code",
      "source": [
        "normalization = lambda x : (x - np.mean(x)) / np.std(x)"
      ],
      "metadata": {
        "id": "ZEe_GJFSPhh_"
      },
      "execution_count": 10,
      "outputs": []
    },
    {
      "cell_type": "code",
      "source": [
        "train = normalization(train_data)\n",
        "print(train)"
      ],
      "metadata": {
        "colab": {
          "base_uri": "https://localhost:8080/"
        },
        "id": "Tz99hHZzT1XP",
        "outputId": "936dad06-b8a7-4c55-e45d-846bafc0b7e7"
      },
      "execution_count": 12,
      "outputs": [
        {
          "output_type": "stream",
          "name": "stdout",
          "text": [
            "[[-0.47482083 -0.48335641 -0.42698208 ... -0.33791894  2.26541184\n",
            "  -0.35370929]\n",
            " [-0.48320564  0.08800509 -0.46929746 ... -0.38155018  2.25488494\n",
            "  -0.46181782]\n",
            " [-0.44943333 -0.48335641 -0.35800316 ... -0.34345941  2.11734264\n",
            "  -0.46077898]\n",
            " ...\n",
            " [-0.48311637 -0.24096062 -0.44138731 ... -0.36631387  2.02544001\n",
            "  -0.42912901]\n",
            " [-0.46847206 -0.48335641 -0.34775328 ... -0.38155018  1.33080293\n",
            "  -0.37400128]\n",
            " [-0.48325675 -0.06782077 -0.46306442 ... -0.37531715  2.12551484\n",
            "  -0.45302231]]\n"
          ]
        }
      ]
    },
    {
      "cell_type": "code",
      "source": [
        "test = normalization(train_targets)\n",
        "print(test)"
      ],
      "metadata": {
        "colab": {
          "base_uri": "https://localhost:8080/"
        },
        "id": "uDF1owEKUa9D",
        "outputId": "eb21f1f6-fe1c-4f3f-e972-87e138298788"
      },
      "execution_count": 15,
      "outputs": [
        {
          "output_type": "stream",
          "name": "stdout",
          "text": [
            "[-7.82152603e-01  2.16380844e+00  3.00085272e+00 -1.40781011e-01\n",
            " -5.10384979e-01 -4.23419340e-01 -1.20611010e+00 -7.38669784e-01\n",
            " -7.38669784e-01 -8.69118243e-01 -1.11914446e+00 -4.88643569e-01\n",
            "  7.66330884e-02 -2.71229470e-01 -7.27799079e-01 -1.47787772e+00\n",
            "  3.00085272e+00  1.14088587e-02  1.85340138e-01  5.54944107e-01\n",
            " -1.24959292e+00  9.13677370e-01  1.14196217e+00  1.74469433e-01\n",
            " -4.23419340e-01 -9.88695998e-01  5.48916785e-02  1.33763486e+00\n",
            " -6.29962734e-01 -5.32126389e-01 -1.03325512e-02 -6.84316259e-01\n",
            " -8.14764718e-01  7.66330884e-02  1.35937627e+00  2.83176483e-01\n",
            " -9.23471768e-01 -1.01043741e+00 -2.16875945e-01 -2.60358765e-01\n",
            " -7.82152603e-01  2.50564368e-01 -2.12032562e-02 -6.19092029e-01\n",
            " -1.05392023e+00 -7.38669784e-01 -4.34290045e-01 -1.51651716e-01\n",
            "  8.37582436e-01 -7.93023308e-01 -4.01677930e-01 -1.39091208e+00\n",
            "  9.89772305e-01  2.61435073e-01 -3.58195110e-01 -4.29446661e-02\n",
            " -8.58247538e-01 -1.23872221e+00  1.04412583e+00  7.61487501e-01\n",
            " -2.27746650e-01  2.17952253e-01 -8.47376833e-01 -3.14712290e-01\n",
            " -9.01730358e-01 -8.79988948e-01 -7.38669784e-01 -1.29307574e+00\n",
            " -1.74964534e+00 -3.36453700e-01 -3.36453700e-01 -9.77825293e-01\n",
            "  1.52243685e+00 -4.99514274e-01 -9.66954588e-01 -6.40833439e-01\n",
            " -1.53223125e+00 -8.79988948e-01 -6.95186964e-01 -9.77825293e-01\n",
            "  6.74521861e-01  2.29425690e+00 -2.38617355e-01 -4.29446661e-02\n",
            "  6.57623835e-02 -1.84263831e-01 -1.07566164e+00  2.83779215e+00\n",
            " -8.47376833e-01 -9.77825293e-01  1.41857318e-01  3.00085272e+00\n",
            " -7.55567810e-02  1.89204082e+00  1.77246306e+00 -2.12032562e-02\n",
            "  1.35937627e+00  1.14088587e-02  9.46289485e-01  6.85392566e-01\n",
            "  2.56602452e+00  2.09858421e+00 -1.51651716e-01  4.57107762e-01\n",
            " -8.03894013e-01  2.17952253e-01 -9.88695998e-01 -1.29910306e-01\n",
            " -1.16262728e+00 -7.55567810e-02 -3.25582995e-01  3.00085272e+00\n",
            "  4.40209735e-02 -2.92970880e-01  2.50564368e-01  1.50069544e+00\n",
            " -8.90859653e-01 -3.79936520e-01 -4.45160750e-01 -1.95134536e-01\n",
            "  2.39693663e-01 -4.56031455e-01 -1.48874843e+00  2.34861042e+00\n",
            " -1.30394644e+00 -9.99566703e-01 -1.29910306e-01  1.58766108e+00\n",
            "  9.02806665e-01  5.48916785e-02 -2.60358765e-01 -3.36453700e-01\n",
            "  1.01151371e+00  1.04412583e+00  7.66330884e-02 -3.90807225e-01\n",
            " -1.24959292e+00  3.00085272e+00 -3.03841585e-01 -1.89096451e+00\n",
            " -8.69118243e-01 -2.82100175e-01 -9.34342473e-01 -3.03841585e-01\n",
            "  1.63598728e-01  2.28822958e-01  2.83176483e-01 -2.71229470e-01\n",
            " -5.64738504e-01  2.39693663e-01 -9.66954588e-01  4.57107762e-01\n",
            " -1.08168896e-01 -1.14088587e+00  2.22795636e-02 -3.03841585e-01\n",
            " -1.51048984e+00  1.41857318e-01  7.66330884e-02  5.38153711e-04\n",
            " -2.06005241e-01  1.30986613e-01 -4.34290045e-01  1.39198839e+00\n",
            "  7.66330884e-02  5.98426926e-01 -1.95134536e-01  1.41857318e-01\n",
            "  6.09297631e-01 -9.56083883e-01  5.11461287e-01  1.30986613e-01\n",
            " -1.95134536e-01 -4.56031455e-01 -7.55567810e-02 -5.75609209e-01\n",
            " -1.52136054e+00  3.15788598e-01 -9.34342473e-01 -2.12032562e-02\n",
            " -4.34290045e-01 -1.84263831e-01  1.00064301e+00  8.81065255e-01\n",
            " -2.27746650e-01 -1.47787772e+00 -3.47324405e-01 -3.25582995e-01\n",
            "  7.66330884e-02  6.57623835e-02 -8.25635423e-01  2.87040426e+00\n",
            "  2.22795636e-02  1.19631570e+00 -1.40781011e-01 -9.56083883e-01\n",
            "  1.06586724e+00 -1.01043741e+00  1.09245203e-01 -3.79936520e-01\n",
            "  1.63598728e-01 -1.15175657e+00  9.83744983e-02  4.40209735e-02\n",
            " -3.03841585e-01 -6.19092029e-01 -9.77825293e-01 -2.12032562e-02\n",
            " -2.16875945e-01 -6.46860760e-02  4.35366352e-01 -8.14764718e-01\n",
            "  1.85340138e-01  1.52728023e-01 -1.09740305e+00  7.28875386e-01\n",
            " -1.51651716e-01 -3.14712290e-01  9.83744983e-02  1.52728023e-01\n",
            " -4.99514274e-01 -1.18436869e+00 -7.55567810e-02 -2.71229470e-01\n",
            "  2.83176483e-01  1.19631570e+00  6.63651156e-01 -1.08168896e-01\n",
            "  2.07081548e-01  5.54944107e-01  1.16370358e+00 -6.73445554e-01\n",
            "  9.83744983e-02  2.81605074e+00  5.48916785e-02  4.40209735e-02\n",
            " -1.01043741e+00 -1.05392023e+00  2.22795636e-02 -8.03894013e-01\n",
            " -7.71281898e-01 -1.29307574e+00  1.74469433e-01 -4.23419340e-01\n",
            " -7.55567810e-02 -3.14712290e-01  1.17457429e+00  8.75037934e-02\n",
            " -1.89096451e+00 -3.58195110e-01 -1.05392023e+00 -1.03325512e-02\n",
            " -1.32568785e+00 -9.23471768e-01 -6.62574849e-01 -5.86479914e-01\n",
            " -2.49488060e-01  8.15841026e-01 -5.64738504e-01  1.62027319e+00\n",
            "  2.50080029e+00 -4.99514274e-01  8.75037934e-02  7.18004681e-01\n",
            " -4.29446661e-02 -4.77772865e-01 -5.42997094e-01  1.32676416e+00\n",
            " -2.49488060e-01  2.83176483e-01 -7.38669784e-01  2.61435073e-01\n",
            "  6.31039041e-01 -1.29910306e-01 -1.08168896e-01  1.52728023e-01\n",
            "  9.35418780e-01  4.13624942e-01 -5.42997094e-01  1.68549742e+00\n",
            " -5.32126389e-01 -2.60358765e-01 -1.53223125e+00  1.63598728e-01\n",
            " -1.52136054e+00 -9.34342473e-01 -1.65180900e+00 -1.16262728e+00\n",
            " -5.75609209e-01 -8.64274860e-02  3.00085272e+00 -6.84316259e-01\n",
            " -2.16875945e-01 -1.95134536e-01 -1.08168896e-01 -1.95134536e-01\n",
            "  1.53330755e+00 -1.51048984e+00  2.61435073e-01 -1.26046362e+00\n",
            " -5.38153711e-02 -5.53867799e-01 -3.79936520e-01  1.50069544e+00\n",
            " -8.14764718e-01 -4.56031455e-01  1.18544499e+00 -6.46860760e-02\n",
            " -2.92970880e-01  1.00064301e+00  2.61435073e-01 -3.25582995e-01\n",
            "  4.40209735e-02 -1.61919689e+00  2.43557606e+00 -6.08221324e-01\n",
            " -4.01677930e-01  3.00085272e+00  3.00085272e+00 -3.14712290e-01\n",
            " -2.49488060e-01  3.00085272e+00 -5.64738504e-01 -1.73393126e-01\n",
            " -3.36453700e-01  2.05510139e+00 -2.16875945e-01 -2.06005241e-01\n",
            " -9.34342473e-01 -6.40833439e-01  1.63598728e-01 -1.95134536e-01\n",
            "  9.89772305e-01  9.83744983e-02 -6.08221324e-01 -9.12601063e-01\n",
            "  1.23979852e+00  1.48982473e+00 -1.04304952e+00 -4.45160750e-01\n",
            " -4.01677930e-01 -3.58195110e-01  7.18004681e-01  8.37582436e-01\n",
            "  3.00085272e+00  3.00085272e+00 -4.29446661e-02 -1.14088587e+00\n",
            "  1.65288531e+00  3.00085272e+00  3.31502686e-02 -1.73393126e-01\n",
            "  1.20115908e-01  5.98426926e-01  3.00085272e+00 -3.36453700e-01\n",
            "  1.63598728e-01  2.22795636e-02 -7.82152603e-01 -7.55567810e-02\n",
            " -3.47324405e-01  2.32686902e+00 -2.27746650e-01  1.17457429e+00\n",
            " -2.71229470e-01  1.14088587e-02  1.12022076e+00 -4.29446661e-02\n",
            " -5.75609209e-01 -3.69065815e-01 -8.03894013e-01 -6.84316259e-01\n",
            "  2.94047188e-01  1.41857318e-01  6.85392566e-01  1.60940249e+00\n",
            "  2.22795636e-02 -6.51704144e-01  2.83176483e-01  8.04970321e-01\n",
            " -3.20739612e-02 -5.42997094e-01 -4.66902160e-01  8.59323846e-01\n",
            " -5.32126389e-01  2.50564368e-01 -1.06479093e+00  4.46237057e-01\n",
            "  6.85392566e-01 -9.88695998e-01 -1.30394644e+00  2.17952253e-01\n",
            "  6.57623835e-02 -2.60358765e-01 -4.99514274e-01 -1.67355041e+00\n",
            " -1.15175657e+00  2.17952253e-01 -9.34342473e-01 -3.25582995e-01\n",
            "  3.04917893e-01 -3.25582995e-01 -3.25582995e-01  7.28875386e-01]\n"
          ]
        }
      ]
    },
    {
      "cell_type": "code",
      "source": [
        "train = normalization(test_data)\n",
        "print(train)"
      ],
      "metadata": {
        "colab": {
          "base_uri": "https://localhost:8080/"
        },
        "id": "99xk3GImUpOX",
        "outputId": "0c064634-0e1c-4c7c-8e49-fc9720f1d926"
      },
      "execution_count": 17,
      "outputs": [
        {
          "output_type": "stream",
          "name": "stdout",
          "text": [
            "[[-0.35847528 -0.4805563  -0.35837132 ... -0.34419516 -0.29660378\n",
            "  -0.28445279]\n",
            " [-0.47972402 -0.4805563  -0.41298328 ... -0.36039649  2.18557385\n",
            "  -0.37112986]\n",
            " [-0.48018522 -0.4805563  -0.44552094 ... -0.34419516  2.19873742\n",
            "  -0.41480593]\n",
            " ...\n",
            " [-0.46817734 -0.4805563  -0.34838051 ... -0.3813232   2.1495259\n",
            "  -0.46759524]\n",
            " [-0.47813899 -0.4805563  -0.43870288 ... -0.36309671  2.16363456\n",
            "  -0.41500845]\n",
            " [-0.46081769 -0.4805563  -0.34838051 ... -0.3813232   1.14065605\n",
            "  -0.41433339]]\n"
          ]
        }
      ]
    },
    {
      "cell_type": "code",
      "source": [
        "test = normalization(test_targets)\n",
        "print(test)"
      ],
      "metadata": {
        "colab": {
          "base_uri": "https://localhost:8080/"
        },
        "id": "E9F6DVa9UzDz",
        "outputId": "08725a04-8afc-4742-ad77-7657147b55e8"
      },
      "execution_count": 19,
      "outputs": [
        {
          "output_type": "stream",
          "name": "stdout",
          "text": [
            "[-1.74032966e+00 -4.68930515e-01 -4.47009840e-01  4.29817154e-01\n",
            " -9.62790426e-02  1.55808718e-01  8.90151326e-01 -1.95566805e-02\n",
            " -2.82604779e-01  1.33243318e-02 -4.90851190e-01 -9.40225025e-01\n",
            " -5.78533890e-01  2.95069476e+00 -2.49723767e-01  1.33888044e-01\n",
            "  1.22927706e-01 -3.59327141e-01 -4.36049503e-01 -4.14773554e-02\n",
            " -1.21423346e+00 -1.41151953e+00 -3.37406466e-01 -5.01811528e-01\n",
            " -2.38763429e-01 -8.59634308e-03  4.84618841e-01  7.69587615e-01\n",
            " -1.48824190e+00 -1.18199717e-01 -2.05882417e-01 -9.84066375e-01\n",
            "  1.09839774e+00  3.52450066e-02 -3.26446129e-01 -1.71840898e+00\n",
            " -8.41581988e-01  7.90863564e-02 -3.26446129e-01  1.55808718e-01\n",
            "  1.08743740e+00  5.83261878e-01 -9.84066375e-01  2.58900363e+00\n",
            "  1.03263571e+00  7.14785928e-01  5.83261878e-01 -3.59327141e-01\n",
            " -3.15485791e-01  2.10610406e-01  1.35048550e+00 -3.04525454e-01\n",
            " -1.46632122e+00 -9.40225025e-01  1.29568381e+00  3.85975805e-01\n",
            " -1.74032966e+00  2.95069476e+00  1.02167538e+00 -1.62041067e-01\n",
            "  7.36706602e-01 -1.09366975e+00  4.84618841e-01 -2.05882417e-01\n",
            "  2.36399435e-03 -1.29160055e-01 -1.10463009e+00  1.33243318e-02\n",
            " -1.64168662e+00 -1.91569506e+00 -1.51080730e-01  7.14785928e-01\n",
            " -3.81247816e-01 -1.76225033e+00  3.64055130e-01 -4.57970178e-01\n",
            " -2.38763429e-01  5.50380866e-01  1.35048550e+00 -1.41151953e+00\n",
            "  1.33888044e-01  2.19443148e+00 -6.00454564e-01 -8.41581988e-01\n",
            " -7.53899289e-01  4.40777492e-01 -1.83961742e-01 -1.73001405e-01\n",
            " -7.43583677e-02  2.10610406e-01 -7.10057939e-01 -4.90851190e-01\n",
            " -1.18199717e-01  2.16155047e+00  1.31760449e+00 -1.73001405e-01\n",
            "  1.41624752e+00 -1.29160055e-01  1.11967369e-01  2.95069476e+00\n",
            "  3.96936142e-01  2.10610406e-01]\n"
          ]
        }
      ]
    },
    {
      "cell_type": "markdown",
      "source": [
        "# Construction du réseau"
      ],
      "metadata": {
        "id": "Hon1F7OwRR0-"
      }
    },
    {
      "cell_type": "markdown",
      "source": [
        "## Le faible nombre d’échantillons disponibles pour l’apprentissage entrainera une contrainte sur la construction du modèle, laquelle ?"
      ],
      "metadata": {
        "id": "76yQn8cLSLA-"
      }
    },
    {
      "cell_type": "markdown",
      "source": [
        "Le faible nombre d’échantillons disponibles pour l’apprentissage entrainera au sous-apprentissage (underfitting)."
      ],
      "metadata": {
        "id": "t9wJY3VNWQc6"
      }
    },
    {
      "cell_type": "markdown",
      "source": [
        "## La configuration typique pour la régression scalaire consiste à utiliser une couche de sortie avec une seule unité, sans fonction d’activation. Quel sera le résultat du réseau si une fonction d’activation sigmoid est appliquée à la sortie ?"
      ],
      "metadata": {
        "id": "jHMsrHFISRfo"
      }
    },
    {
      "cell_type": "markdown",
      "source": [
        "le résultat du réseau si une fonction d’activation sigmoid est appliquée à la sortie est entre 0 et 1.\n",
        "\n",
        "\n"
      ],
      "metadata": {
        "id": "wpOqlCgoWTmw"
      }
    },
    {
      "cell_type": "markdown",
      "source": [
        "## Choisir une fonction de perte adéquate à ce problème, et en précisant l’erreur absolue moyenne (mae : Elle s’agit simplement de la valeur absolue de la différence entre les prédictions et les cibles) comme mesure à suivre pendant l’apprentissage compiler votre réseau. Vous pouvez utiliser l’optimisateur que vous préférez."
      ],
      "metadata": {
        "id": "wewOE0-ESVce"
      }
    },
    {
      "cell_type": "code",
      "source": [
        "from keras import models\n",
        "from keras import layers\n",
        "\n",
        "def build_model():\n",
        "    model = models.Sequential()\n",
        "    model.add(layers.Dense(64, activation='relu', input_shape=(train_data.shape[1],)))\n",
        "    model.add(layers.Dense(64, activation='relu'))\n",
        "    model.add(layers.Dense(1))\n",
        "\n",
        "    model.compile(optimizer='rmsprop',\n",
        "              loss='mse',\n",
        "              metrics=['mae'])\n",
        "    return model"
      ],
      "metadata": {
        "id": "vN_x4fc3Sa6j"
      },
      "execution_count": 20,
      "outputs": []
    },
    {
      "cell_type": "markdown",
      "source": [
        "# Validation de l’approche"
      ],
      "metadata": {
        "id": "nedcB9naSbR-"
      }
    },
    {
      "cell_type": "markdown",
      "source": [
        "## Faire l’apprentissage de votre modèle en 100 époques et 4-fold de validation."
      ],
      "metadata": {
        "id": "gADFKpmJShWl"
      }
    },
    {
      "cell_type": "code",
      "source": [
        "k = 4\n",
        "num_val_samples = len(train_data) // k\n",
        "num_epochs = 100\n",
        "all_scores = []\n",
        "\n",
        "for i in range(k):\n",
        "    print(f'Processing fold # {i}')\n",
        "    val_data = train_data[i * num_val_samples: (i+1) * num_val_samples]\n",
        "    val_targets = train_targets[i * num_val_samples: (i+1) * num_val_samples]\n",
        "    \n",
        "    partial_train_data = np.concatenate(\n",
        "                            [train_data[:i * num_val_samples],\n",
        "                            train_data[(i+1) * num_val_samples:]],\n",
        "                            axis=0)\n",
        "    partial_train_targets = np.concatenate(\n",
        "                            [train_targets[:i * num_val_samples],\n",
        "                            train_targets[(i+1)*num_val_samples:]],\n",
        "                            axis=0)\n",
        "    model = build_model()\n",
        "    model.fit(partial_train_data,\n",
        "              partial_train_targets,\n",
        "              epochs=num_epochs,\n",
        "              batch_size=1,\n",
        "              verbose=0)\n",
        "    val_mse, val_mae = model.evaluate(val_data, val_targets, verbose=0)\n",
        "    all_scores.append(val_mae)"
      ],
      "metadata": {
        "colab": {
          "base_uri": "https://localhost:8080/"
        },
        "id": "N0nClJdySkwB",
        "outputId": "1f97476f-8b36-4d0f-9cf4-633d48f1d9cd"
      },
      "execution_count": 21,
      "outputs": [
        {
          "output_type": "stream",
          "name": "stdout",
          "text": [
            "Processing fold # 0\n",
            "Processing fold # 1\n",
            "Processing fold # 2\n",
            "Processing fold # 3\n"
          ]
        }
      ]
    },
    {
      "cell_type": "markdown",
      "source": [
        "## le score de validation moyen. Sachant que les prix varient de 10 000 $ à 50 000 $ et qu’un score de 0.5 signifie que les prédictions sont décalées de 500 $ en moyenne, votre modèle performe-t-il bien sur ce problème ?"
      ],
      "metadata": {
        "id": "xU4NjAoPSk5s"
      }
    },
    {
      "cell_type": "code",
      "source": [
        "print(f'all_scores : {all_scores}')\n",
        "print(f'mean all scores : {np.mean(all_scores)}')"
      ],
      "metadata": {
        "colab": {
          "base_uri": "https://localhost:8080/"
        },
        "id": "LsHlJkgoSpMg",
        "outputId": "99c0e1d4-7c59-4b3a-ca1d-4d53c98f2bb6"
      },
      "execution_count": 22,
      "outputs": [
        {
          "output_type": "stream",
          "name": "stdout",
          "text": [
            "all_scores : [3.3883564472198486, 3.1335482597351074, 2.904461145401001, 4.149350643157959]\n",
            "mean all scores : 3.393929123878479\n"
          ]
        }
      ]
    },
    {
      "cell_type": "markdown",
      "source": [
        "## Si votre modèle n’obtient pas des résultats satisfaisants, que pouvez-vous faire pour l’améliorer ? Essayer au moins une procédure pour améliorer votre modèle et effectuer une évaluation finale sur les données de test."
      ],
      "metadata": {
        "id": "a3kSiwgGSpnM"
      }
    },
    {
      "cell_type": "code",
      "source": [
        "model = build_model()\n",
        "model.fit(train_data, train_targets, epochs=100, batch_size=16, verbose=0)\n",
        "test_mse_score, test_mae_score = model.evaluate(test_data, test_targets)"
      ],
      "metadata": {
        "colab": {
          "base_uri": "https://localhost:8080/"
        },
        "id": "aDFMgCjDSwzK",
        "outputId": "b3ea93fb-5bf5-40d4-d28a-b6549f19f1d8"
      },
      "execution_count": 25,
      "outputs": [
        {
          "output_type": "stream",
          "name": "stdout",
          "text": [
            "4/4 [==============================] - 0s 4ms/step - loss: 30.8869 - mae: 3.7732\n"
          ]
        }
      ]
    },
    {
      "cell_type": "code",
      "source": [
        "test_mae_score"
      ],
      "metadata": {
        "colab": {
          "base_uri": "https://localhost:8080/"
        },
        "id": "BjCa9VllWHhV",
        "outputId": "f14138ef-93cd-4ec0-ff55-e877836319e0"
      },
      "execution_count": 26,
      "outputs": [
        {
          "output_type": "execute_result",
          "data": {
            "text/plain": [
              "3.773223638534546"
            ]
          },
          "metadata": {},
          "execution_count": 26
        }
      ]
    }
  ]
}